{
 "cells": [
  {
   "cell_type": "markdown",
   "metadata": {},
   "source": [
    "# Pre-Test Use Case : Churn\n",
    "Author : Shelby Marsa Istiqomah\n",
    "<br> Date   : 31 October 2019 "
   ]
  },
  {
   "cell_type": "code",
   "execution_count": 20,
   "metadata": {},
   "outputs": [],
   "source": [
    "# 1.Memanggil Library\n",
    "\n",
    "import numpy as np   \n",
    "import pandas as pd\n",
    "import matplotlib.pyplot as plt\n",
    "import seaborn as sns"
   ]
  },
  {
   "cell_type": "code",
   "execution_count": 21,
   "metadata": {},
   "outputs": [],
   "source": [
    "# 2.Read Dataset\n",
    "\n",
    "df = pd.read_csv(\"churn.csv\",encoding='latin1')"
   ]
  },
  {
   "cell_type": "code",
   "execution_count": 22,
   "metadata": {},
   "outputs": [
    {
     "data": {
      "text/html": [
       "<div>\n",
       "<style scoped>\n",
       "    .dataframe tbody tr th:only-of-type {\n",
       "        vertical-align: middle;\n",
       "    }\n",
       "\n",
       "    .dataframe tbody tr th {\n",
       "        vertical-align: top;\n",
       "    }\n",
       "\n",
       "    .dataframe thead th {\n",
       "        text-align: right;\n",
       "    }\n",
       "</style>\n",
       "<table border=\"1\" class=\"dataframe\">\n",
       "  <thead>\n",
       "    <tr style=\"text-align: right;\">\n",
       "      <th></th>\n",
       "      <th>state</th>\n",
       "      <th>account_length</th>\n",
       "      <th>area_code</th>\n",
       "      <th>phone_number</th>\n",
       "      <th>international_plan</th>\n",
       "      <th>voice_mail_plan</th>\n",
       "      <th>number_vmail_messages</th>\n",
       "      <th>total_day_minutes</th>\n",
       "      <th>total_day_calls</th>\n",
       "      <th>total_day_charge</th>\n",
       "      <th>...</th>\n",
       "      <th>total_eve_calls</th>\n",
       "      <th>total_eve_charge</th>\n",
       "      <th>total_night_minutes</th>\n",
       "      <th>total_night_calls</th>\n",
       "      <th>total_night_charge</th>\n",
       "      <th>total_intl_minutes</th>\n",
       "      <th>total_intl_calls</th>\n",
       "      <th>total_intl_charge</th>\n",
       "      <th>number_customer_service_calls</th>\n",
       "      <th>class</th>\n",
       "    </tr>\n",
       "  </thead>\n",
       "  <tbody>\n",
       "    <tr>\n",
       "      <td>0</td>\n",
       "      <td>16</td>\n",
       "      <td>128</td>\n",
       "      <td>415</td>\n",
       "      <td>2845</td>\n",
       "      <td>0</td>\n",
       "      <td>1</td>\n",
       "      <td>25</td>\n",
       "      <td>265.1</td>\n",
       "      <td>110</td>\n",
       "      <td>45.07</td>\n",
       "      <td>...</td>\n",
       "      <td>99</td>\n",
       "      <td>16.78</td>\n",
       "      <td>244.7</td>\n",
       "      <td>91</td>\n",
       "      <td>11.01</td>\n",
       "      <td>10.0</td>\n",
       "      <td>3</td>\n",
       "      <td>2.70</td>\n",
       "      <td>1</td>\n",
       "      <td>0</td>\n",
       "    </tr>\n",
       "    <tr>\n",
       "      <td>1</td>\n",
       "      <td>35</td>\n",
       "      <td>107</td>\n",
       "      <td>415</td>\n",
       "      <td>2301</td>\n",
       "      <td>0</td>\n",
       "      <td>1</td>\n",
       "      <td>26</td>\n",
       "      <td>161.6</td>\n",
       "      <td>123</td>\n",
       "      <td>27.47</td>\n",
       "      <td>...</td>\n",
       "      <td>103</td>\n",
       "      <td>16.62</td>\n",
       "      <td>254.4</td>\n",
       "      <td>103</td>\n",
       "      <td>11.45</td>\n",
       "      <td>13.7</td>\n",
       "      <td>3</td>\n",
       "      <td>3.70</td>\n",
       "      <td>1</td>\n",
       "      <td>0</td>\n",
       "    </tr>\n",
       "    <tr>\n",
       "      <td>2</td>\n",
       "      <td>31</td>\n",
       "      <td>137</td>\n",
       "      <td>415</td>\n",
       "      <td>1616</td>\n",
       "      <td>0</td>\n",
       "      <td>0</td>\n",
       "      <td>0</td>\n",
       "      <td>243.4</td>\n",
       "      <td>114</td>\n",
       "      <td>41.38</td>\n",
       "      <td>...</td>\n",
       "      <td>110</td>\n",
       "      <td>10.30</td>\n",
       "      <td>162.6</td>\n",
       "      <td>104</td>\n",
       "      <td>7.32</td>\n",
       "      <td>12.2</td>\n",
       "      <td>5</td>\n",
       "      <td>3.29</td>\n",
       "      <td>0</td>\n",
       "      <td>0</td>\n",
       "    </tr>\n",
       "    <tr>\n",
       "      <td>3</td>\n",
       "      <td>35</td>\n",
       "      <td>84</td>\n",
       "      <td>408</td>\n",
       "      <td>2510</td>\n",
       "      <td>1</td>\n",
       "      <td>0</td>\n",
       "      <td>0</td>\n",
       "      <td>299.4</td>\n",
       "      <td>71</td>\n",
       "      <td>50.90</td>\n",
       "      <td>...</td>\n",
       "      <td>88</td>\n",
       "      <td>5.26</td>\n",
       "      <td>196.9</td>\n",
       "      <td>89</td>\n",
       "      <td>8.86</td>\n",
       "      <td>6.6</td>\n",
       "      <td>7</td>\n",
       "      <td>1.78</td>\n",
       "      <td>2</td>\n",
       "      <td>0</td>\n",
       "    </tr>\n",
       "    <tr>\n",
       "      <td>4</td>\n",
       "      <td>36</td>\n",
       "      <td>75</td>\n",
       "      <td>415</td>\n",
       "      <td>155</td>\n",
       "      <td>1</td>\n",
       "      <td>0</td>\n",
       "      <td>0</td>\n",
       "      <td>166.7</td>\n",
       "      <td>113</td>\n",
       "      <td>28.34</td>\n",
       "      <td>...</td>\n",
       "      <td>122</td>\n",
       "      <td>12.61</td>\n",
       "      <td>186.9</td>\n",
       "      <td>121</td>\n",
       "      <td>8.41</td>\n",
       "      <td>10.1</td>\n",
       "      <td>3</td>\n",
       "      <td>2.73</td>\n",
       "      <td>3</td>\n",
       "      <td>0</td>\n",
       "    </tr>\n",
       "  </tbody>\n",
       "</table>\n",
       "<p>5 rows × 21 columns</p>\n",
       "</div>"
      ],
      "text/plain": [
       "   state  account_length  area_code  phone_number  international_plan  \\\n",
       "0     16             128        415          2845                   0   \n",
       "1     35             107        415          2301                   0   \n",
       "2     31             137        415          1616                   0   \n",
       "3     35              84        408          2510                   1   \n",
       "4     36              75        415           155                   1   \n",
       "\n",
       "   voice_mail_plan  number_vmail_messages  total_day_minutes  total_day_calls  \\\n",
       "0                1                     25              265.1              110   \n",
       "1                1                     26              161.6              123   \n",
       "2                0                      0              243.4              114   \n",
       "3                0                      0              299.4               71   \n",
       "4                0                      0              166.7              113   \n",
       "\n",
       "   total_day_charge  ...  total_eve_calls  total_eve_charge  \\\n",
       "0             45.07  ...               99             16.78   \n",
       "1             27.47  ...              103             16.62   \n",
       "2             41.38  ...              110             10.30   \n",
       "3             50.90  ...               88              5.26   \n",
       "4             28.34  ...              122             12.61   \n",
       "\n",
       "   total_night_minutes  total_night_calls  total_night_charge  \\\n",
       "0                244.7                 91               11.01   \n",
       "1                254.4                103               11.45   \n",
       "2                162.6                104                7.32   \n",
       "3                196.9                 89                8.86   \n",
       "4                186.9                121                8.41   \n",
       "\n",
       "   total_intl_minutes  total_intl_calls  total_intl_charge  \\\n",
       "0                10.0                 3               2.70   \n",
       "1                13.7                 3               3.70   \n",
       "2                12.2                 5               3.29   \n",
       "3                 6.6                 7               1.78   \n",
       "4                10.1                 3               2.73   \n",
       "\n",
       "   number_customer_service_calls  class  \n",
       "0                              1      0  \n",
       "1                              1      0  \n",
       "2                              0      0  \n",
       "3                              2      0  \n",
       "4                              3      0  \n",
       "\n",
       "[5 rows x 21 columns]"
      ]
     },
     "execution_count": 22,
     "metadata": {},
     "output_type": "execute_result"
    }
   ],
   "source": [
    "df.head()"
   ]
  },
  {
   "cell_type": "code",
   "execution_count": 23,
   "metadata": {},
   "outputs": [
    {
     "name": "stdout",
     "output_type": "stream",
     "text": [
      "Index(['state', 'account_length', 'area_code', 'phone_number',\n",
      "       'international_plan', 'voice_mail_plan', 'number_vmail_messages',\n",
      "       'total_day_minutes', 'total_day_calls', 'total_day_charge',\n",
      "       'total_eve_minutes', 'total_eve_calls', 'total_eve_charge',\n",
      "       'total_night_minutes', 'total_night_calls', 'total_night_charge',\n",
      "       'total_intl_minutes', 'total_intl_calls', 'total_intl_charge',\n",
      "       'number_customer_service_calls', 'class'],\n",
      "      dtype='object')\n"
     ]
    }
   ],
   "source": [
    "print(df.columns)"
   ]
  },
  {
   "cell_type": "code",
   "execution_count": 24,
   "metadata": {},
   "outputs": [
    {
     "data": {
      "text/plain": [
       "state                              int64\n",
       "account_length                     int64\n",
       "area_code                          int64\n",
       "phone_number                       int64\n",
       "international_plan                 int64\n",
       "voice_mail_plan                    int64\n",
       "number_vmail_messages              int64\n",
       "total_day_minutes                float64\n",
       "total_day_calls                    int64\n",
       "total_day_charge                 float64\n",
       "total_eve_minutes                float64\n",
       "total_eve_calls                    int64\n",
       "total_eve_charge                 float64\n",
       "total_night_minutes              float64\n",
       "total_night_calls                  int64\n",
       "total_night_charge               float64\n",
       "total_intl_minutes               float64\n",
       "total_intl_calls                   int64\n",
       "total_intl_charge                float64\n",
       "number_customer_service_calls      int64\n",
       "class                              int64\n",
       "dtype: object"
      ]
     },
     "execution_count": 24,
     "metadata": {},
     "output_type": "execute_result"
    }
   ],
   "source": [
    "df.dtypes"
   ]
  },
  {
   "cell_type": "code",
   "execution_count": 25,
   "metadata": {},
   "outputs": [
    {
     "data": {
      "text/plain": [
       "(5000, 21)"
      ]
     },
     "execution_count": 25,
     "metadata": {},
     "output_type": "execute_result"
    }
   ],
   "source": [
    "df.shape"
   ]
  },
  {
   "cell_type": "code",
   "execution_count": 26,
   "metadata": {},
   "outputs": [
    {
     "data": {
      "text/plain": [
       "state                            0\n",
       "account_length                   0\n",
       "area_code                        0\n",
       "phone_number                     0\n",
       "international_plan               0\n",
       "voice_mail_plan                  0\n",
       "number_vmail_messages            0\n",
       "total_day_minutes                0\n",
       "total_day_calls                  0\n",
       "total_day_charge                 0\n",
       "total_eve_minutes                0\n",
       "total_eve_calls                  0\n",
       "total_eve_charge                 0\n",
       "total_night_minutes              0\n",
       "total_night_calls                0\n",
       "total_night_charge               0\n",
       "total_intl_minutes               0\n",
       "total_intl_calls                 0\n",
       "total_intl_charge                0\n",
       "number_customer_service_calls    0\n",
       "class                            0\n",
       "dtype: int64"
      ]
     },
     "execution_count": 26,
     "metadata": {},
     "output_type": "execute_result"
    }
   ],
   "source": [
    "df.isna().sum()"
   ]
  },
  {
   "cell_type": "markdown",
   "metadata": {},
   "source": [
    "### INSIGHT 1 : Jumlah customer churn vs stay"
   ]
  },
  {
   "cell_type": "code",
   "execution_count": 27,
   "metadata": {
    "scrolled": true
   },
   "outputs": [
    {
     "data": {
      "text/plain": [
       "0    4293\n",
       "1     707\n",
       "Name: class, dtype: int64"
      ]
     },
     "execution_count": 27,
     "metadata": {},
     "output_type": "execute_result"
    }
   ],
   "source": [
    "df['class'].value_counts()"
   ]
  },
  {
   "cell_type": "code",
   "execution_count": 54,
   "metadata": {},
   "outputs": [
    {
     "name": "stdout",
     "output_type": "stream",
     "text": [
      "Jumlah customer yang stay: 4293\n",
      "Jumlah customer yang churn: 707\n"
     ]
    }
   ],
   "source": [
    "count_stay = (df['class'] == 0).sum()\n",
    "print(\"Jumlah customer yang stay:\",count_stay)\n",
    "count_churn = (df['class']== 1).sum()\n",
    "print(\"Jumlah customer yang churn:\",count_churn)"
   ]
  },
  {
   "cell_type": "code",
   "execution_count": 55,
   "metadata": {},
   "outputs": [
    {
     "data": {
      "image/png": "[encoded data removed]",
      "text/plain": [
       "<Figure size 432x288 with 1 Axes>"
      ]
     },
     "metadata": {},
     "output_type": "display_data"
    }
   ],
   "source": [
    "from matplotlib.pyplot import suptitle\n",
    "from seaborn import despine\n",
    "\n",
    "sns.set(style=\"whitegrid\")\n",
    "\n",
    "ax=sns.countplot(x='class',palette=\"Set3\", data=df)\n",
    "ax.set_xticklabels([\"Stay\",\"Churn\"])\n",
    "ax.set_ylabel(\"Count\")\n",
    "ax.set_xlabel(\"Customer Churn\")\n",
    "suptitle(\"Distribution of Customer Churn\")\n",
    "despine()"
   ]
  },
  {
   "cell_type": "markdown",
   "metadata": {},
   "source": [
    "### INSIGHT 2 : Distribusi jumlah customer churn dan stay per state dan area"
   ]
  },
  {
   "cell_type": "code",
   "execution_count": 37,
   "metadata": {},
   "outputs": [],
   "source": [
    "#Visualisasikan\n",
    "def diff_bar(x,y):\n",
    "    \n",
    "    df.groupby([x,y]).size().unstack(level=-1).plot(kind='bar', figsize=(35,10))\n",
    "    plt.xlabel(x,fontsize= 25)\n",
    "    plt.ylabel('count',fontsize= 25)\n",
    "    plt.legend(loc=0,fontsize= 25)\n",
    "    plt.xticks(fontsize=20)\n",
    "    plt.yticks(fontsize=20)\n",
    "    plt.title(\"{X} Vs {Y}\".format(X=x,Y=y),fontsize = 40)\n",
    "    plt.show()"
   ]
  },
  {
   "cell_type": "code",
   "execution_count": 38,
   "metadata": {},
   "outputs": [
    {
     "data": {
      "image/png": "[encoded data removed]",
      "text/plain": [
       "<Figure size 2520x720 with 1 Axes>"
      ]
     },
     "metadata": {
      "needs_background": "light"
     },
     "output_type": "display_data"
    }
   ],
   "source": [
    "diff_bar('state','class')"
   ]
  },
  {
   "cell_type": "code",
   "execution_count": 53,
   "metadata": {},
   "outputs": [
    {
     "data": {
      "image/png": "[encoded data removed]",
      "text/plain": [
       "<Figure size 2520x720 with 1 Axes>"
      ]
     },
     "metadata": {},
     "output_type": "display_data"
    },
    {
     "name": "stdout",
     "output_type": "stream",
     "text": [
      "Area dengan jumlah churn terbanyak adalah area code 415\n"
     ]
    }
   ],
   "source": [
    "diff_bar('area_code','class')\n",
    "print('Area dengan jumlah churn terbanyak adalah area code 415')"
   ]
  },
  {
   "cell_type": "markdown",
   "metadata": {},
   "source": [
    "### INSIGHT 3 : Summary Statistics"
   ]
  },
  {
   "cell_type": "code",
   "execution_count": 63,
   "metadata": {
    "scrolled": true
   },
   "outputs": [
    {
     "data": {
      "text/html": [
       "<div>\n",
       "<style scoped>\n",
       "    .dataframe tbody tr th:only-of-type {\n",
       "        vertical-align: middle;\n",
       "    }\n",
       "\n",
       "    .dataframe tbody tr th {\n",
       "        vertical-align: top;\n",
       "    }\n",
       "\n",
       "    .dataframe thead th {\n",
       "        text-align: right;\n",
       "    }\n",
       "</style>\n",
       "<table border=\"1\" class=\"dataframe\">\n",
       "  <thead>\n",
       "    <tr style=\"text-align: right;\">\n",
       "      <th></th>\n",
       "      <th>count</th>\n",
       "      <th>mean</th>\n",
       "      <th>std</th>\n",
       "      <th>min</th>\n",
       "      <th>25%</th>\n",
       "      <th>50%</th>\n",
       "      <th>75%</th>\n",
       "      <th>max</th>\n",
       "    </tr>\n",
       "  </thead>\n",
       "  <tbody>\n",
       "    <tr>\n",
       "      <td>state</td>\n",
       "      <td>5000.0</td>\n",
       "      <td>25.998400</td>\n",
       "      <td>14.803480</td>\n",
       "      <td>0.0</td>\n",
       "      <td>13.000</td>\n",
       "      <td>26.00</td>\n",
       "      <td>39.00</td>\n",
       "      <td>50.00</td>\n",
       "    </tr>\n",
       "    <tr>\n",
       "      <td>account_length</td>\n",
       "      <td>5000.0</td>\n",
       "      <td>100.258600</td>\n",
       "      <td>39.694560</td>\n",
       "      <td>1.0</td>\n",
       "      <td>73.000</td>\n",
       "      <td>100.00</td>\n",
       "      <td>127.00</td>\n",
       "      <td>243.00</td>\n",
       "    </tr>\n",
       "    <tr>\n",
       "      <td>area_code</td>\n",
       "      <td>5000.0</td>\n",
       "      <td>436.911400</td>\n",
       "      <td>42.209182</td>\n",
       "      <td>408.0</td>\n",
       "      <td>408.000</td>\n",
       "      <td>415.00</td>\n",
       "      <td>415.00</td>\n",
       "      <td>510.00</td>\n",
       "    </tr>\n",
       "    <tr>\n",
       "      <td>phone_number</td>\n",
       "      <td>5000.0</td>\n",
       "      <td>2499.500000</td>\n",
       "      <td>1443.520003</td>\n",
       "      <td>0.0</td>\n",
       "      <td>1249.750</td>\n",
       "      <td>2499.50</td>\n",
       "      <td>3749.25</td>\n",
       "      <td>4999.00</td>\n",
       "    </tr>\n",
       "    <tr>\n",
       "      <td>international_plan</td>\n",
       "      <td>5000.0</td>\n",
       "      <td>0.094600</td>\n",
       "      <td>0.292691</td>\n",
       "      <td>0.0</td>\n",
       "      <td>0.000</td>\n",
       "      <td>0.00</td>\n",
       "      <td>0.00</td>\n",
       "      <td>1.00</td>\n",
       "    </tr>\n",
       "    <tr>\n",
       "      <td>voice_mail_plan</td>\n",
       "      <td>5000.0</td>\n",
       "      <td>0.264600</td>\n",
       "      <td>0.441164</td>\n",
       "      <td>0.0</td>\n",
       "      <td>0.000</td>\n",
       "      <td>0.00</td>\n",
       "      <td>1.00</td>\n",
       "      <td>1.00</td>\n",
       "    </tr>\n",
       "    <tr>\n",
       "      <td>number_vmail_messages</td>\n",
       "      <td>5000.0</td>\n",
       "      <td>7.755200</td>\n",
       "      <td>13.546393</td>\n",
       "      <td>0.0</td>\n",
       "      <td>0.000</td>\n",
       "      <td>0.00</td>\n",
       "      <td>17.00</td>\n",
       "      <td>52.00</td>\n",
       "    </tr>\n",
       "    <tr>\n",
       "      <td>total_day_minutes</td>\n",
       "      <td>5000.0</td>\n",
       "      <td>180.288900</td>\n",
       "      <td>53.894699</td>\n",
       "      <td>0.0</td>\n",
       "      <td>143.700</td>\n",
       "      <td>180.10</td>\n",
       "      <td>216.20</td>\n",
       "      <td>351.50</td>\n",
       "    </tr>\n",
       "    <tr>\n",
       "      <td>total_day_calls</td>\n",
       "      <td>5000.0</td>\n",
       "      <td>100.029400</td>\n",
       "      <td>19.831197</td>\n",
       "      <td>0.0</td>\n",
       "      <td>87.000</td>\n",
       "      <td>100.00</td>\n",
       "      <td>113.00</td>\n",
       "      <td>165.00</td>\n",
       "    </tr>\n",
       "    <tr>\n",
       "      <td>total_day_charge</td>\n",
       "      <td>5000.0</td>\n",
       "      <td>30.649668</td>\n",
       "      <td>9.162069</td>\n",
       "      <td>0.0</td>\n",
       "      <td>24.430</td>\n",
       "      <td>30.62</td>\n",
       "      <td>36.75</td>\n",
       "      <td>59.76</td>\n",
       "    </tr>\n",
       "    <tr>\n",
       "      <td>total_eve_minutes</td>\n",
       "      <td>5000.0</td>\n",
       "      <td>200.636560</td>\n",
       "      <td>50.551309</td>\n",
       "      <td>0.0</td>\n",
       "      <td>166.375</td>\n",
       "      <td>201.00</td>\n",
       "      <td>234.10</td>\n",
       "      <td>363.70</td>\n",
       "    </tr>\n",
       "    <tr>\n",
       "      <td>total_eve_calls</td>\n",
       "      <td>5000.0</td>\n",
       "      <td>100.191000</td>\n",
       "      <td>19.826496</td>\n",
       "      <td>0.0</td>\n",
       "      <td>87.000</td>\n",
       "      <td>100.00</td>\n",
       "      <td>114.00</td>\n",
       "      <td>170.00</td>\n",
       "    </tr>\n",
       "    <tr>\n",
       "      <td>total_eve_charge</td>\n",
       "      <td>5000.0</td>\n",
       "      <td>17.054322</td>\n",
       "      <td>4.296843</td>\n",
       "      <td>0.0</td>\n",
       "      <td>14.140</td>\n",
       "      <td>17.09</td>\n",
       "      <td>19.90</td>\n",
       "      <td>30.91</td>\n",
       "    </tr>\n",
       "    <tr>\n",
       "      <td>total_night_minutes</td>\n",
       "      <td>5000.0</td>\n",
       "      <td>200.391620</td>\n",
       "      <td>50.527789</td>\n",
       "      <td>0.0</td>\n",
       "      <td>166.900</td>\n",
       "      <td>200.40</td>\n",
       "      <td>234.70</td>\n",
       "      <td>395.00</td>\n",
       "    </tr>\n",
       "    <tr>\n",
       "      <td>total_night_calls</td>\n",
       "      <td>5000.0</td>\n",
       "      <td>99.919200</td>\n",
       "      <td>19.958686</td>\n",
       "      <td>0.0</td>\n",
       "      <td>87.000</td>\n",
       "      <td>100.00</td>\n",
       "      <td>113.00</td>\n",
       "      <td>175.00</td>\n",
       "    </tr>\n",
       "    <tr>\n",
       "      <td>total_night_charge</td>\n",
       "      <td>5000.0</td>\n",
       "      <td>9.017732</td>\n",
       "      <td>2.273763</td>\n",
       "      <td>0.0</td>\n",
       "      <td>7.510</td>\n",
       "      <td>9.02</td>\n",
       "      <td>10.56</td>\n",
       "      <td>17.77</td>\n",
       "    </tr>\n",
       "    <tr>\n",
       "      <td>total_intl_minutes</td>\n",
       "      <td>5000.0</td>\n",
       "      <td>10.261780</td>\n",
       "      <td>2.761396</td>\n",
       "      <td>0.0</td>\n",
       "      <td>8.500</td>\n",
       "      <td>10.30</td>\n",
       "      <td>12.00</td>\n",
       "      <td>20.00</td>\n",
       "    </tr>\n",
       "    <tr>\n",
       "      <td>total_intl_calls</td>\n",
       "      <td>5000.0</td>\n",
       "      <td>4.435200</td>\n",
       "      <td>2.456788</td>\n",
       "      <td>0.0</td>\n",
       "      <td>3.000</td>\n",
       "      <td>4.00</td>\n",
       "      <td>6.00</td>\n",
       "      <td>20.00</td>\n",
       "    </tr>\n",
       "    <tr>\n",
       "      <td>total_intl_charge</td>\n",
       "      <td>5000.0</td>\n",
       "      <td>2.771196</td>\n",
       "      <td>0.745514</td>\n",
       "      <td>0.0</td>\n",
       "      <td>2.300</td>\n",
       "      <td>2.78</td>\n",
       "      <td>3.24</td>\n",
       "      <td>5.40</td>\n",
       "    </tr>\n",
       "    <tr>\n",
       "      <td>number_customer_service_calls</td>\n",
       "      <td>5000.0</td>\n",
       "      <td>1.570400</td>\n",
       "      <td>1.306363</td>\n",
       "      <td>0.0</td>\n",
       "      <td>1.000</td>\n",
       "      <td>1.00</td>\n",
       "      <td>2.00</td>\n",
       "      <td>9.00</td>\n",
       "    </tr>\n",
       "    <tr>\n",
       "      <td>class</td>\n",
       "      <td>5000.0</td>\n",
       "      <td>0.141400</td>\n",
       "      <td>0.348469</td>\n",
       "      <td>0.0</td>\n",
       "      <td>0.000</td>\n",
       "      <td>0.00</td>\n",
       "      <td>0.00</td>\n",
       "      <td>1.00</td>\n",
       "    </tr>\n",
       "  </tbody>\n",
       "</table>\n",
       "</div>"
      ],
      "text/plain": [
       "                                count         mean          std    min  \\\n",
       "state                          5000.0    25.998400    14.803480    0.0   \n",
       "account_length                 5000.0   100.258600    39.694560    1.0   \n",
       "area_code                      5000.0   436.911400    42.209182  408.0   \n",
       "phone_number                   5000.0  2499.500000  1443.520003    0.0   \n",
       "international_plan             5000.0     0.094600     0.292691    0.0   \n",
       "voice_mail_plan                5000.0     0.264600     0.441164    0.0   \n",
       "number_vmail_messages          5000.0     7.755200    13.546393    0.0   \n",
       "total_day_minutes              5000.0   180.288900    53.894699    0.0   \n",
       "total_day_calls                5000.0   100.029400    19.831197    0.0   \n",
       "total_day_charge               5000.0    30.649668     9.162069    0.0   \n",
       "total_eve_minutes              5000.0   200.636560    50.551309    0.0   \n",
       "total_eve_calls                5000.0   100.191000    19.826496    0.0   \n",
       "total_eve_charge               5000.0    17.054322     4.296843    0.0   \n",
       "total_night_minutes            5000.0   200.391620    50.527789    0.0   \n",
       "total_night_calls              5000.0    99.919200    19.958686    0.0   \n",
       "total_night_charge             5000.0     9.017732     2.273763    0.0   \n",
       "total_intl_minutes             5000.0    10.261780     2.761396    0.0   \n",
       "total_intl_calls               5000.0     4.435200     2.456788    0.0   \n",
       "total_intl_charge              5000.0     2.771196     0.745514    0.0   \n",
       "number_customer_service_calls  5000.0     1.570400     1.306363    0.0   \n",
       "class                          5000.0     0.141400     0.348469    0.0   \n",
       "\n",
       "                                    25%      50%      75%      max  \n",
       "state                            13.000    26.00    39.00    50.00  \n",
       "account_length                   73.000   100.00   127.00   243.00  \n",
       "area_code                       408.000   415.00   415.00   510.00  \n",
       "phone_number                   1249.750  2499.50  3749.25  4999.00  \n",
       "international_plan                0.000     0.00     0.00     1.00  \n",
       "voice_mail_plan                   0.000     0.00     1.00     1.00  \n",
       "number_vmail_messages             0.000     0.00    17.00    52.00  \n",
       "total_day_minutes               143.700   180.10   216.20   351.50  \n",
       "total_day_calls                  87.000   100.00   113.00   165.00  \n",
       "total_day_charge                 24.430    30.62    36.75    59.76  \n",
       "total_eve_minutes               166.375   201.00   234.10   363.70  \n",
       "total_eve_calls                  87.000   100.00   114.00   170.00  \n",
       "total_eve_charge                 14.140    17.09    19.90    30.91  \n",
       "total_night_minutes             166.900   200.40   234.70   395.00  \n",
       "total_night_calls                87.000   100.00   113.00   175.00  \n",
       "total_night_charge                7.510     9.02    10.56    17.77  \n",
       "total_intl_minutes                8.500    10.30    12.00    20.00  \n",
       "total_intl_calls                  3.000     4.00     6.00    20.00  \n",
       "total_intl_charge                 2.300     2.78     3.24     5.40  \n",
       "number_customer_service_calls     1.000     1.00     2.00     9.00  \n",
       "class                             0.000     0.00     0.00     1.00  "
      ]
     },
     "execution_count": 63,
     "metadata": {},
     "output_type": "execute_result"
    }
   ],
   "source": [
    "num_set = df.describe().transpose()\n",
    "num_set"
   ]
  },
  {
   "cell_type": "code",
   "execution_count": 65,
   "metadata": {},
   "outputs": [
    {
     "data": {
      "text/plain": [
       "state                             5168.801880\n",
       "account_length                    5683.953160\n",
       "area_code                         7635.120582\n",
       "phone_number                     21440.520003\n",
       "international_plan                5001.387291\n",
       "voice_mail_plan                   5002.705764\n",
       "number_vmail_messages             5090.301593\n",
       "total_day_minutes                 6125.683599\n",
       "total_day_calls                   5584.860597\n",
       "total_day_charge                  5191.371737\n",
       "total_eve_minutes                 6216.362869\n",
       "total_eve_calls                   5591.017496\n",
       "total_eve_charge                  5103.391165\n",
       "total_night_minutes               6247.919409\n",
       "total_night_calls                 5594.877886\n",
       "total_night_charge                5056.151495\n",
       "total_intl_minutes                5063.823176\n",
       "total_intl_calls                  5039.891988\n",
       "total_intl_charge                 5017.236710\n",
       "number_customer_service_calls     5015.876763\n",
       "class                             5001.489869\n",
       "dtype: float64"
      ]
     },
     "execution_count": 65,
     "metadata": {},
     "output_type": "execute_result"
    }
   ],
   "source": [
    "sum_all = df.describe().sum()\n",
    "sum_all"
   ]
  },
  {
   "cell_type": "code",
   "execution_count": 66,
   "metadata": {},
   "outputs": [
    {
     "data": {
      "text/plain": [
       "state                             646.100235\n",
       "account_length                    710.494145\n",
       "area_code                         954.390073\n",
       "phone_number                     2680.065000\n",
       "international_plan                625.173411\n",
       "voice_mail_plan                   625.338221\n",
       "number_vmail_messages             636.287699\n",
       "total_day_minutes                 765.710450\n",
       "total_day_calls                   698.107575\n",
       "total_day_charge                  648.921467\n",
       "total_eve_minutes                 777.045359\n",
       "total_eve_calls                   698.877187\n",
       "total_eve_charge                  637.923896\n",
       "total_night_minutes               780.989926\n",
       "total_night_calls                 699.359736\n",
       "total_night_charge                632.018937\n",
       "total_intl_minutes                632.977897\n",
       "total_intl_calls                  629.986499\n",
       "total_intl_charge                 627.154589\n",
       "number_customer_service_calls     626.984595\n",
       "class                             625.186234\n",
       "dtype: float64"
      ]
     },
     "execution_count": 66,
     "metadata": {},
     "output_type": "execute_result"
    }
   ],
   "source": [
    "avg_all = df.describe().mean()\n",
    "avg_all"
   ]
  },
  {
   "cell_type": "code",
   "execution_count": null,
   "metadata": {},
   "outputs": [],
   "source": []
  }
 ],
 "metadata": {
  "kernelspec": {
   "display_name": "Python 3",
   "language": "python",
   "name": "python3"
  },
  "language_info": {
   "codemirror_mode": {
    "name": "ipython",
    "version": 3
   },
   "file_extension": ".py",
   "mimetype": "text/x-python",
   "name": "python",
   "nbconvert_exporter": "python",
   "pygments_lexer": "ipython3",
   "version": "3.7.3"
  }
 },
 "nbformat": 4,
 "nbformat_minor": 2
}
